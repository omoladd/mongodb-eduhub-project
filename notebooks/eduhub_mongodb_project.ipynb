{
 "cells": [
  {
   "cell_type": "code",
   "execution_count": null,
   "id": "34f704d3",
   "metadata": {},
   "outputs": [],
   "source": [
    "from pymongo import MongoClient\n",
    "from pymongo.errors import CollectionInvalid\n",
    "from datetime import datetime\n",
    "import pandas as pd\n"
   ]
  },
  {
   "cell_type": "code",
   "execution_count": null,
   "id": "f7317a1d",
   "metadata": {},
   "outputs": [],
   "source": [
    "connection_url = \"mongodb://localhost:27017/\"\n",
    "database_name = \"eduhub_db\"\n",
    "\n",
    "client = MongoClient(connection_url)\n",
    "\n",
    "db = client[database_name]"
   ]
  },
  {
   "cell_type": "code",
   "execution_count": null,
   "id": "43b7c619",
   "metadata": {},
   "outputs": [],
   "source": [
    "## SCHEMA DEFINITION\n",
    "\n",
    "# users schema\n"
   ]
  }
 ],
 "metadata": {
  "kernelspec": {
   "display_name": "base",
   "language": "python",
   "name": "python3"
  },
  "language_info": {
   "name": "python",
   "version": "3.11.7"
  }
 },
 "nbformat": 4,
 "nbformat_minor": 5
}
