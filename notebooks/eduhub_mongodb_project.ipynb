{
 "cells": [
  {
   "cell_type": "code",
   "execution_count": 4,
   "id": "6b84d286",
   "metadata": {},
   "outputs": [],
   "source": [
    "import os\n",
    "import sys\n",
    "module_path = os.path.abspath(os.path.join(\"..\", \"src\"))\n",
    "sys.path.insert(0, str(module_path))\n",
    "from eduhub_queries import EdHubDB\n"
   ]
  },
  {
   "cell_type": "code",
   "execution_count": 5,
   "id": "72ce0dc7",
   "metadata": {},
   "outputs": [
    {
     "name": "stdout",
     "output_type": "stream",
     "text": [
      "Created collection: users\n",
      "Created collection: courses\n",
      "Created collection: lessons\n",
      "Created collection: assignments\n",
      "Created collection: enrollments\n",
      "Created collection: submissions\n"
     ]
    }
   ],
   "source": [
    "# Part 1\n",
    "\n",
    "edhub = EdHubDB()\n",
    "edhub.build_collection()"
   ]
  },
  {
   "cell_type": "code",
   "execution_count": 6,
   "id": "cafb117a",
   "metadata": {},
   "outputs": [
    {
     "name": "stdout",
     "output_type": "stream",
     "text": [
      "Seeded 20 documents into 'users' collection.\n",
      "Seeded 8 documents into 'courses' collection.\n",
      "Seeded 15 documents into 'enrollments' collection.\n",
      "Seeded 15 documents into 'lessons' collection.\n",
      "Seeded 10 documents into 'assignments' collection.\n",
      "Seeded 12 documents into 'submissions' collection.\n"
     ]
    }
   ],
   "source": [
    "# Part 2\n",
    "edhub.seed_database()"
   ]
  },
  {
   "cell_type": "markdown",
   "id": "8aff137e",
   "metadata": {},
   "source": [
    "## Part 3 - Basic CRUD Operations\n",
    "###  Create Operations"
   ]
  },
  {
   "cell_type": "code",
   "execution_count": 7,
   "id": "69caae0a",
   "metadata": {},
   "outputs": [
    {
     "data": {
      "text/plain": [
       "{'_id': ObjectId('684bfa8911cc0f5fde184cbb'),\n",
       " 'userId': 'u100',\n",
       " 'email': 'ricardo89@example.com',\n",
       " 'firstName': 'Steven',\n",
       " 'lastName': 'Stafford',\n",
       " 'role': 'student',\n",
       " 'dateJoined': datetime.datetime(2024, 4, 18, 15, 34, 29),\n",
       " 'profile': {'bio': 'As month we civil he his machine.',\n",
       "  'avatar': 'https://picsum.photos/722/439',\n",
       "  'skills': ['APIs', 'Machine Learning', 'Cloud Computing']},\n",
       " 'is_active': False}"
      ]
     },
     "execution_count": 7,
     "metadata": {},
     "output_type": "execute_result"
    }
   ],
   "source": [
    "# insert user\n",
    "\n",
    "user_id = \"u100\"\n",
    "edhub.insert_student(edhub.helper.make_user(user_id))\n",
    "\n",
    "# verify user is inserted\n",
    "edhub.users_col.find_one({\"userId\": user_id})"
   ]
  },
  {
   "cell_type": "code",
   "execution_count": 8,
   "id": "f08bd893",
   "metadata": {},
   "outputs": [
    {
     "data": {
      "text/plain": [
       "{'_id': ObjectId('684bfa8911cc0f5fde184cbc'),\n",
       " 'courseId': 'c100',\n",
       " 'title': 'Cultural deep hundred effect question management.',\n",
       " 'description': 'Bill occur class old Republican course seek truth. Red form factor professional use against marriage. Start song late.',\n",
       " 'instructorId': 'u2',\n",
       " 'category': 'Cloud Computing',\n",
       " 'level': 'intermediate',\n",
       " 'duration': 78,\n",
       " 'price': 5596,\n",
       " 'tags': ['SQL', 'MongoDB'],\n",
       " 'createdAt': datetime.datetime(2023, 3, 3, 9, 7, 25),\n",
       " 'updatedAt': datetime.datetime(2025, 5, 19, 21, 27, 8),\n",
       " 'isPublished': False}"
      ]
     },
     "execution_count": 8,
     "metadata": {},
     "output_type": "execute_result"
    }
   ],
   "source": [
    "# insert course\n",
    "course_id = \"c100\"\n",
    "user_id = \"u2\" # role is instructor\n",
    "edhub.insert_course(edhub.helper.make_course(course_id=course_id, instructor_id=user_id))\n",
    "\n",
    "# verify course is inserted\n",
    "edhub.courses_col.find_one({\"courseId\": course_id})"
   ]
  },
  {
   "cell_type": "code",
   "execution_count": 9,
   "id": "b3ed78fd",
   "metadata": {},
   "outputs": [
    {
     "name": "stdout",
     "output_type": "stream",
     "text": [
      "684bfa8911cc0f5fde184cbd\n"
     ]
    },
    {
     "data": {
      "text/plain": [
       "{'_id': ObjectId('684bfa8911cc0f5fde184cbd'),\n",
       " 'enrollmentId': 'e16',\n",
       " 'studentId': 'u100',\n",
       " 'courseId': 'c100',\n",
       " 'enrollmentDate': datetime.datetime(1971, 1, 12, 2, 26, 33),\n",
       " 'progress': 0.0,\n",
       " 'completed': False,\n",
       " 'certificateIssued': False}"
      ]
     },
     "execution_count": 9,
     "metadata": {},
     "output_type": "execute_result"
    }
   ],
   "source": [
    "# Enroll a student into a course\n",
    "user_id = \"u100\" # existing user that's a student\n",
    "course_id = \"c100\" # existing course\n",
    "\n",
    "inserted_id = edhub.register_student(student_id=user_id, course_id=course_id)\n",
    "\n",
    "# verify enrollment is created\n",
    "print(inserted_id)\n",
    "edhub.enrollments_col.find_one({\"_id\": inserted_id})"
   ]
  },
  {
   "cell_type": "code",
   "execution_count": 10,
   "id": "15bbda8e",
   "metadata": {},
   "outputs": [
    {
     "data": {
      "text/plain": [
       "{'_id': ObjectId('684bfa8911cc0f5fde184cbe'),\n",
       " 'lessonId': 'l100',\n",
       " 'courseId': 'c100',\n",
       " 'title': 'Chair learn much inside condition grow reality authority.',\n",
       " 'content': 'Player recent reality discover throughout. Follow administration book lead note let continue mother. Marriage administration minute statement military. Despite back among worry technology partner return. Participant window happen when concern rich force.',\n",
       " 'order': 78,\n",
       " 'resources': ['intro.pdf'],\n",
       " 'duration': 30,\n",
       " 'createdAt': datetime.datetime(2022, 8, 16, 23, 26, 12),\n",
       " 'updatedAt': datetime.datetime(2024, 9, 25, 17, 29, 53)}"
      ]
     },
     "execution_count": 10,
     "metadata": {},
     "output_type": "execute_result"
    }
   ],
   "source": [
    "# Add a new lesson to an existing course\n",
    "course_id = \"c100\" # existing course\n",
    "lesson_id = \"l100\"\n",
    "\n",
    "edhub.insert_lesson(edhub.helper.make_lesson(lesson_id=lesson_id, course_id=course_id))\n",
    "\n",
    "# verify lesson is created\n",
    "edhub.lessons_col.find_one({\"lessonId\": lesson_id})"
   ]
  },
  {
   "cell_type": "markdown",
   "id": "7a3ed664",
   "metadata": {},
   "source": [
    "### Read Operations"
   ]
  },
  {
   "cell_type": "code",
   "execution_count": 11,
   "id": "2a9244c6",
   "metadata": {},
   "outputs": [
    {
     "data": {
      "text/plain": [
       "[{'_id': ObjectId('684bfa8911cc0f5fde184c6b'),\n",
       "  'userId': 'u1',\n",
       "  'email': 'alice.student@example.com',\n",
       "  'firstName': 'Alice',\n",
       "  'lastName': 'Johnson',\n",
       "  'role': 'student',\n",
       "  'dateJoined': datetime.datetime(2024, 1, 10, 9, 0),\n",
       "  'profile': {'bio': 'Aspiring developer.',\n",
       "   'avatar': 'alice.jpg',\n",
       "   'skills': ['JavaScript', 'HTML']},\n",
       "  'isActive': True},\n",
       " {'_id': ObjectId('684bfa8911cc0f5fde184c6d'),\n",
       "  'userId': 'u3',\n",
       "  'email': 'carol.student@example.com',\n",
       "  'firstName': 'Carol',\n",
       "  'lastName': 'Lee',\n",
       "  'role': 'student',\n",
       "  'dateJoined': datetime.datetime(2024, 2, 1, 11, 0),\n",
       "  'profile': {'bio': 'Interested in data science.',\n",
       "   'avatar': 'carol.jpg',\n",
       "   'skills': ['Python', 'Pandas']},\n",
       "  'isActive': True},\n",
       " {'_id': ObjectId('684bfa8911cc0f5fde184c6f'),\n",
       "  'userId': 'u5',\n",
       "  'email': 'eve.student@example.com',\n",
       "  'firstName': 'Eve',\n",
       "  'lastName': 'Davis',\n",
       "  'role': 'student',\n",
       "  'dateJoined': datetime.datetime(2024, 3, 5, 13, 0),\n",
       "  'profile': {'bio': 'Frontend enthusiast.',\n",
       "   'avatar': 'eve.jpg',\n",
       "   'skills': ['CSS', 'React']},\n",
       "  'isActive': True},\n",
       " {'_id': ObjectId('684bfa8911cc0f5fde184c71'),\n",
       "  'userId': 'u7',\n",
       "  'email': 'grace.student@example.com',\n",
       "  'firstName': 'Grace',\n",
       "  'lastName': 'Wilson',\n",
       "  'role': 'student',\n",
       "  'dateJoined': datetime.datetime(2024, 4, 12, 15, 0),\n",
       "  'profile': {'bio': 'Learning cloud computing.',\n",
       "   'avatar': 'grace.jpg',\n",
       "   'skills': ['AWS', 'Azure']},\n",
       "  'isActive': True},\n",
       " {'_id': ObjectId('684bfa8911cc0f5fde184c73'),\n",
       "  'userId': 'u9',\n",
       "  'email': 'ivy.student@example.com',\n",
       "  'firstName': 'Ivy',\n",
       "  'lastName': 'Taylor',\n",
       "  'role': 'student',\n",
       "  'dateJoined': datetime.datetime(2024, 5, 20, 17, 0),\n",
       "  'profile': {'bio': 'Interested in mobile apps.',\n",
       "   'avatar': 'ivy.jpg',\n",
       "   'skills': ['Flutter', 'Dart']},\n",
       "  'isActive': True},\n",
       " {'_id': ObjectId('684bfa8911cc0f5fde184c75'),\n",
       "  'userId': 'u11',\n",
       "  'email': 'kate.student@example.com',\n",
       "  'firstName': 'Kate',\n",
       "  'lastName': 'Thomas',\n",
       "  'role': 'student',\n",
       "  'dateJoined': datetime.datetime(2024, 6, 1, 19, 0),\n",
       "  'profile': {'bio': 'Learning programming.',\n",
       "   'avatar': 'kate.jpg',\n",
       "   'skills': ['C++', 'Python']},\n",
       "  'isActive': True},\n",
       " {'_id': ObjectId('684bfa8911cc0f5fde184c77'),\n",
       "  'userId': 'u13',\n",
       "  'email': 'mia.student@example.com',\n",
       "  'firstName': 'Mia',\n",
       "  'lastName': 'White',\n",
       "  'role': 'student',\n",
       "  'dateJoined': datetime.datetime(2024, 6, 5, 21, 0),\n",
       "  'profile': {'bio': 'Interested in AI.',\n",
       "   'avatar': 'mia.jpg',\n",
       "   'skills': ['Python', 'ML']},\n",
       "  'isActive': True},\n",
       " {'_id': ObjectId('684bfa8911cc0f5fde184c79'),\n",
       "  'userId': 'u15',\n",
       "  'email': 'oliver.student@example.com',\n",
       "  'firstName': 'Oliver',\n",
       "  'lastName': 'Martin',\n",
       "  'role': 'student',\n",
       "  'dateJoined': datetime.datetime(2024, 6, 10, 23, 0),\n",
       "  'profile': {'bio': 'Learning backend.',\n",
       "   'avatar': 'oliver.jpg',\n",
       "   'skills': ['Node.js', 'Express']},\n",
       "  'isActive': True},\n",
       " {'_id': ObjectId('684bfa8911cc0f5fde184c7b'),\n",
       "  'userId': 'u17',\n",
       "  'email': 'quinn.student@example.com',\n",
       "  'firstName': 'Quinn',\n",
       "  'lastName': 'Lewis',\n",
       "  'role': 'student',\n",
       "  'dateJoined': datetime.datetime(2024, 6, 11, 9, 0),\n",
       "  'profile': {'bio': 'Interested in DevOps.',\n",
       "   'avatar': 'quinn.jpg',\n",
       "   'skills': ['Docker', 'CI/CD']},\n",
       "  'isActive': True},\n",
       " {'_id': ObjectId('684bfa8911cc0f5fde184c7d'),\n",
       "  'userId': 'u19',\n",
       "  'email': 'sam.student@example.com',\n",
       "  'firstName': 'Sam',\n",
       "  'lastName': 'Hall',\n",
       "  'role': 'student',\n",
       "  'dateJoined': datetime.datetime(2024, 6, 12, 11, 0),\n",
       "  'profile': {'bio': 'Learning databases.',\n",
       "   'avatar': 'sam.jpg',\n",
       "   'skills': ['SQL', 'MongoDB']},\n",
       "  'isActive': True}]"
      ]
     },
     "execution_count": 11,
     "metadata": {},
     "output_type": "execute_result"
    }
   ],
   "source": [
    "# Find all active students\n",
    "edhub.get_active_students()"
   ]
  },
  {
   "cell_type": "code",
   "execution_count": 12,
   "id": "6696a01a",
   "metadata": {},
   "outputs": [
    {
     "data": {
      "text/plain": [
       "[{'_id': ObjectId('684bfa8911cc0f5fde184c7f'),\n",
       "  'courseId': 'c1',\n",
       "  'title': 'Introduction to JavaScript',\n",
       "  'description': 'Learn the basics of JavaScript.',\n",
       "  'instructorId': 'u2',\n",
       "  'category': 'Programming',\n",
       "  'level': 'beginner',\n",
       "  'duration': 10,\n",
       "  'price': 0,\n",
       "  'tags': ['JavaScript', 'Web'],\n",
       "  'createdAt': datetime.datetime(2024, 1, 1, 9, 0),\n",
       "  'updatedAt': datetime.datetime(2024, 1, 10, 9, 0),\n",
       "  'isPublished': True,\n",
       "  'instructor': {'_id': ObjectId('684bfa8911cc0f5fde184c6c'),\n",
       "   'userId': 'u2',\n",
       "   'email': 'bob.instructor@example.com',\n",
       "   'firstName': 'Bob',\n",
       "   'lastName': 'Smith',\n",
       "   'role': 'instructor',\n",
       "   'dateJoined': datetime.datetime(2023, 12, 15, 10, 0),\n",
       "   'profile': {'bio': 'Full-stack instructor.',\n",
       "    'avatar': 'bob.jpg',\n",
       "    'skills': ['Node.js', 'MongoDB']},\n",
       "   'isActive': True}},\n",
       " {'_id': ObjectId('684bfa8911cc0f5fde184c80'),\n",
       "  'courseId': 'c2',\n",
       "  'title': 'Advanced Python',\n",
       "  'description': 'Deep dive into Python.',\n",
       "  'instructorId': 'u8',\n",
       "  'category': 'Programming',\n",
       "  'level': 'advanced',\n",
       "  'duration': 20,\n",
       "  'price': 50,\n",
       "  'tags': ['Python', 'Advanced'],\n",
       "  'createdAt': datetime.datetime(2024, 2, 1, 9, 0),\n",
       "  'updatedAt': datetime.datetime(2024, 2, 10, 9, 0),\n",
       "  'isPublished': True,\n",
       "  'instructor': {'_id': ObjectId('684bfa8911cc0f5fde184c72'),\n",
       "   'userId': 'u8',\n",
       "   'email': 'henry.instructor@example.com',\n",
       "   'firstName': 'Henry',\n",
       "   'lastName': 'Moore',\n",
       "   'role': 'instructor',\n",
       "   'dateJoined': datetime.datetime(2023, 9, 18, 16, 0),\n",
       "   'profile': {'bio': 'AI/ML instructor.',\n",
       "    'avatar': 'henry.jpg',\n",
       "    'skills': ['TensorFlow', 'PyTorch']},\n",
       "   'isActive': True}},\n",
       " {'_id': ObjectId('684bfa8911cc0f5fde184c81'),\n",
       "  'courseId': 'c3',\n",
       "  'title': 'Web Design Fundamentals',\n",
       "  'description': 'Basics of web design.',\n",
       "  'instructorId': 'u14',\n",
       "  'category': 'Design',\n",
       "  'level': 'beginner',\n",
       "  'duration': 8,\n",
       "  'price': 20,\n",
       "  'tags': ['Design', 'UI/UX'],\n",
       "  'createdAt': datetime.datetime(2024, 3, 1, 9, 0),\n",
       "  'updatedAt': datetime.datetime(2024, 3, 10, 9, 0),\n",
       "  'isPublished': True,\n",
       "  'instructor': {'_id': ObjectId('684bfa8911cc0f5fde184c78'),\n",
       "   'userId': 'u14',\n",
       "   'email': 'nina.instructor@example.com',\n",
       "   'firstName': 'Nina',\n",
       "   'lastName': 'Harris',\n",
       "   'role': 'instructor',\n",
       "   'dateJoined': datetime.datetime(2023, 6, 15, 22, 0),\n",
       "   'profile': {'bio': 'UI/UX designer.',\n",
       "    'avatar': 'nina.jpg',\n",
       "    'skills': ['Figma', 'Sketch']},\n",
       "   'isActive': True}},\n",
       " {'_id': ObjectId('684bfa8911cc0f5fde184c82'),\n",
       "  'courseId': 'c4',\n",
       "  'title': 'Database Management',\n",
       "  'description': 'Learn about databases.',\n",
       "  'instructorId': 'u10',\n",
       "  'category': 'Database',\n",
       "  'level': 'intermediate',\n",
       "  'duration': 12,\n",
       "  'price': 30,\n",
       "  'tags': ['Database', 'SQL', 'MongoDB'],\n",
       "  'createdAt': datetime.datetime(2024, 4, 1, 9, 0),\n",
       "  'updatedAt': datetime.datetime(2024, 4, 10, 9, 0),\n",
       "  'isPublished': True,\n",
       "  'instructor': {'_id': ObjectId('684bfa8911cc0f5fde184c74'),\n",
       "   'userId': 'u10',\n",
       "   'email': 'jack.instructor@example.com',\n",
       "   'firstName': 'Jack',\n",
       "   'lastName': 'Anderson',\n",
       "   'role': 'instructor',\n",
       "   'dateJoined': datetime.datetime(2023, 8, 22, 18, 0),\n",
       "   'profile': {'bio': 'Database expert.',\n",
       "    'avatar': 'jack.jpg',\n",
       "    'skills': ['MongoDB', 'SQL']},\n",
       "   'isActive': True}},\n",
       " {'_id': ObjectId('684bfa8911cc0f5fde184c83'),\n",
       "  'courseId': 'c5',\n",
       "  'title': 'Cloud Computing Basics',\n",
       "  'description': 'Introduction to cloud platforms.',\n",
       "  'instructorId': 'u16',\n",
       "  'category': 'Cloud',\n",
       "  'level': 'beginner',\n",
       "  'duration': 15,\n",
       "  'price': 40,\n",
       "  'tags': ['Cloud', 'AWS', 'GCP'],\n",
       "  'createdAt': datetime.datetime(2024, 5, 1, 9, 0),\n",
       "  'updatedAt': datetime.datetime(2024, 5, 10, 9, 0),\n",
       "  'isPublished': True,\n",
       "  'instructor': {'_id': ObjectId('684bfa8911cc0f5fde184c7a'),\n",
       "   'userId': 'u16',\n",
       "   'email': 'paul.instructor@example.com',\n",
       "   'firstName': 'Paul',\n",
       "   'lastName': 'Clark',\n",
       "   'role': 'instructor',\n",
       "   'dateJoined': datetime.datetime(2023, 5, 12, 8, 0),\n",
       "   'profile': {'bio': 'Cloud architect.',\n",
       "    'avatar': 'paul.jpg',\n",
       "    'skills': ['AWS', 'GCP']},\n",
       "   'isActive': True}},\n",
       " {'_id': ObjectId('684bfa8911cc0f5fde184c84'),\n",
       "  'courseId': 'c6',\n",
       "  'title': 'Mobile App Development',\n",
       "  'description': 'Build mobile apps.',\n",
       "  'instructorId': 'u18',\n",
       "  'category': 'Mobile',\n",
       "  'level': 'intermediate',\n",
       "  'duration': 18,\n",
       "  'price': 60,\n",
       "  'tags': ['Mobile', 'Flutter'],\n",
       "  'createdAt': datetime.datetime(2024, 6, 1, 9, 0),\n",
       "  'updatedAt': datetime.datetime(2024, 6, 10, 9, 0),\n",
       "  'isPublished': True,\n",
       "  'instructor': {'_id': ObjectId('684bfa8911cc0f5fde184c7c'),\n",
       "   'userId': 'u18',\n",
       "   'email': 'rachel.instructor@example.com',\n",
       "   'firstName': 'Rachel',\n",
       "   'lastName': 'Walker',\n",
       "   'role': 'instructor',\n",
       "   'dateJoined': datetime.datetime(2023, 4, 10, 10, 0),\n",
       "   'profile': {'bio': 'Mobile app developer.',\n",
       "    'avatar': 'rachel.jpg',\n",
       "    'skills': ['Flutter', 'Swift']},\n",
       "   'isActive': True}},\n",
       " {'_id': ObjectId('684bfa8911cc0f5fde184c85'),\n",
       "  'courseId': 'c7',\n",
       "  'title': 'DevOps Essentials',\n",
       "  'description': 'Learn DevOps tools.',\n",
       "  'instructorId': 'u6',\n",
       "  'category': 'DevOps',\n",
       "  'level': 'intermediate',\n",
       "  'duration': 14,\n",
       "  'price': 35,\n",
       "  'tags': ['DevOps', 'Docker'],\n",
       "  'createdAt': datetime.datetime(2024, 7, 1, 9, 0),\n",
       "  'updatedAt': datetime.datetime(2024, 7, 10, 9, 0),\n",
       "  'isPublished': True,\n",
       "  'instructor': {'_id': ObjectId('684bfa8911cc0f5fde184c70'),\n",
       "   'userId': 'u6',\n",
       "   'email': 'frank.instructor@example.com',\n",
       "   'firstName': 'Frank',\n",
       "   'lastName': 'Miller',\n",
       "   'role': 'instructor',\n",
       "   'dateJoined': datetime.datetime(2023, 10, 10, 14, 0),\n",
       "   'profile': {'bio': 'DevOps engineer.',\n",
       "    'avatar': 'frank.jpg',\n",
       "    'skills': ['Docker', 'Kubernetes']},\n",
       "   'isActive': True}},\n",
       " {'_id': ObjectId('684bfa8911cc0f5fde184c86'),\n",
       "  'courseId': 'c8',\n",
       "  'title': 'Cybersecurity Fundamentals',\n",
       "  'description': 'Basics of cybersecurity.',\n",
       "  'instructorId': 'u12',\n",
       "  'category': 'Security',\n",
       "  'level': 'beginner',\n",
       "  'duration': 9,\n",
       "  'price': 25,\n",
       "  'tags': ['Security', 'Linux'],\n",
       "  'createdAt': datetime.datetime(2024, 8, 1, 9, 0),\n",
       "  'updatedAt': datetime.datetime(2024, 8, 10, 9, 0),\n",
       "  'isPublished': True,\n",
       "  'instructor': {'_id': ObjectId('684bfa8911cc0f5fde184c76'),\n",
       "   'userId': 'u12',\n",
       "   'email': 'leo.instructor@example.com',\n",
       "   'firstName': 'Leo',\n",
       "   'lastName': 'Jackson',\n",
       "   'role': 'instructor',\n",
       "   'dateJoined': datetime.datetime(2023, 7, 30, 20, 0),\n",
       "   'profile': {'bio': 'Cybersecurity instructor.',\n",
       "    'avatar': 'leo.jpg',\n",
       "    'skills': ['Security', 'Linux']},\n",
       "   'isActive': True}},\n",
       " {'_id': ObjectId('684bfa8911cc0f5fde184cbc'),\n",
       "  'courseId': 'c100',\n",
       "  'title': 'Cultural deep hundred effect question management.',\n",
       "  'description': 'Bill occur class old Republican course seek truth. Red form factor professional use against marriage. Start song late.',\n",
       "  'instructorId': 'u2',\n",
       "  'category': 'Cloud Computing',\n",
       "  'level': 'intermediate',\n",
       "  'duration': 78,\n",
       "  'price': 5596,\n",
       "  'tags': ['SQL', 'MongoDB'],\n",
       "  'createdAt': datetime.datetime(2023, 3, 3, 9, 7, 25),\n",
       "  'updatedAt': datetime.datetime(2025, 5, 19, 21, 27, 8),\n",
       "  'isPublished': False,\n",
       "  'instructor': {'_id': ObjectId('684bfa8911cc0f5fde184c6c'),\n",
       "   'userId': 'u2',\n",
       "   'email': 'bob.instructor@example.com',\n",
       "   'firstName': 'Bob',\n",
       "   'lastName': 'Smith',\n",
       "   'role': 'instructor',\n",
       "   'dateJoined': datetime.datetime(2023, 12, 15, 10, 0),\n",
       "   'profile': {'bio': 'Full-stack instructor.',\n",
       "    'avatar': 'bob.jpg',\n",
       "    'skills': ['Node.js', 'MongoDB']},\n",
       "   'isActive': True}}]"
      ]
     },
     "execution_count": 12,
     "metadata": {},
     "output_type": "execute_result"
    }
   ],
   "source": [
    "# Retrieve course details with instructor information\n",
    "\n",
    "edhub.get_course_details()"
   ]
  },
  {
   "cell_type": "code",
   "execution_count": 13,
   "id": "678304f2",
   "metadata": {},
   "outputs": [
    {
     "data": {
      "text/plain": [
       "[{'_id': ObjectId('684bfa8911cc0f5fde184c7f'),\n",
       "  'courseId': 'c1',\n",
       "  'title': 'Introduction to JavaScript',\n",
       "  'description': 'Learn the basics of JavaScript.',\n",
       "  'instructorId': 'u2',\n",
       "  'category': 'Programming',\n",
       "  'level': 'beginner',\n",
       "  'duration': 10,\n",
       "  'price': 0,\n",
       "  'tags': ['JavaScript', 'Web'],\n",
       "  'createdAt': datetime.datetime(2024, 1, 1, 9, 0),\n",
       "  'updatedAt': datetime.datetime(2024, 1, 10, 9, 0),\n",
       "  'isPublished': True},\n",
       " {'_id': ObjectId('684bfa8911cc0f5fde184c80'),\n",
       "  'courseId': 'c2',\n",
       "  'title': 'Advanced Python',\n",
       "  'description': 'Deep dive into Python.',\n",
       "  'instructorId': 'u8',\n",
       "  'category': 'Programming',\n",
       "  'level': 'advanced',\n",
       "  'duration': 20,\n",
       "  'price': 50,\n",
       "  'tags': ['Python', 'Advanced'],\n",
       "  'createdAt': datetime.datetime(2024, 2, 1, 9, 0),\n",
       "  'updatedAt': datetime.datetime(2024, 2, 10, 9, 0),\n",
       "  'isPublished': True}]"
      ]
     },
     "execution_count": 13,
     "metadata": {},
     "output_type": "execute_result"
    }
   ],
   "source": [
    "# Get all courses in a specific category\n",
    "\n",
    "edhub.get_courses_by_category(\"Programming\")"
   ]
  },
  {
   "cell_type": "code",
   "execution_count": 14,
   "id": "dc57e395",
   "metadata": {},
   "outputs": [
    {
     "data": {
      "text/plain": [
       "[{'_id': ObjectId('684bfa8911cc0f5fde184c6b'),\n",
       "  'userId': 'u1',\n",
       "  'email': 'alice.student@example.com',\n",
       "  'firstName': 'Alice',\n",
       "  'lastName': 'Johnson',\n",
       "  'role': 'student',\n",
       "  'dateJoined': datetime.datetime(2024, 1, 10, 9, 0),\n",
       "  'profile': {'bio': 'Aspiring developer.',\n",
       "   'avatar': 'alice.jpg',\n",
       "   'skills': ['JavaScript', 'HTML']},\n",
       "  'isActive': True},\n",
       " {'_id': ObjectId('684bfa8911cc0f5fde184c7b'),\n",
       "  'userId': 'u17',\n",
       "  'email': 'quinn.student@example.com',\n",
       "  'firstName': 'Quinn',\n",
       "  'lastName': 'Lewis',\n",
       "  'role': 'student',\n",
       "  'dateJoined': datetime.datetime(2024, 6, 11, 9, 0),\n",
       "  'profile': {'bio': 'Interested in DevOps.',\n",
       "   'avatar': 'quinn.jpg',\n",
       "   'skills': ['Docker', 'CI/CD']},\n",
       "  'isActive': True}]"
      ]
     },
     "execution_count": 14,
     "metadata": {},
     "output_type": "execute_result"
    }
   ],
   "source": [
    "# Find students enrolled in a particular course\n",
    "course_id = \"c1\"\n",
    "edhub.get_student_enrolled_to_course(course_id=course_id)"
   ]
  },
  {
   "cell_type": "code",
   "execution_count": 15,
   "id": "f1efb03c",
   "metadata": {},
   "outputs": [
    {
     "data": {
      "text/plain": [
       "[{'_id': ObjectId('684bfa8911cc0f5fde184c80'),\n",
       "  'courseId': 'c2',\n",
       "  'title': 'Advanced Python',\n",
       "  'description': 'Deep dive into Python.',\n",
       "  'instructorId': 'u8',\n",
       "  'category': 'Programming',\n",
       "  'level': 'advanced',\n",
       "  'duration': 20,\n",
       "  'price': 50,\n",
       "  'tags': ['Python', 'Advanced'],\n",
       "  'createdAt': datetime.datetime(2024, 2, 1, 9, 0),\n",
       "  'updatedAt': datetime.datetime(2024, 2, 10, 9, 0),\n",
       "  'isPublished': True}]"
      ]
     },
     "execution_count": 15,
     "metadata": {},
     "output_type": "execute_result"
    }
   ],
   "source": [
    "# Search courses by title (case-insensitive, partial match)\n",
    "\n",
    "partial_title = \"py\"\n",
    "\n",
    "edhub.search_courses_by_title(partial_title)"
   ]
  }
 ],
 "metadata": {
  "kernelspec": {
   "display_name": "base",
   "language": "python",
   "name": "python3"
  },
  "language_info": {
   "codemirror_mode": {
    "name": "ipython",
    "version": 3
   },
   "file_extension": ".py",
   "mimetype": "text/x-python",
   "name": "python",
   "nbconvert_exporter": "python",
   "pygments_lexer": "ipython3",
   "version": "3.11.7"
  }
 },
 "nbformat": 4,
 "nbformat_minor": 5
}
